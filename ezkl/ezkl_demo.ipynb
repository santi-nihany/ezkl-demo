{
  "cells": [
    {
      "cell_type": "code",
      "execution_count": 1,
      "metadata": {
        "id": "95613ee9"
      },
      "outputs": [
        {
          "name": "stdout",
          "output_type": "stream",
          "text": [
            "Requirement already satisfied: ezkl in /Users/santinihany/miniconda3/envs/ezkl/lib/python3.9/site-packages (11.0.14)\n",
            "Requirement already satisfied: onnx in /Users/santinihany/miniconda3/envs/ezkl/lib/python3.9/site-packages (1.16.1)\n",
            "Requirement already satisfied: numpy>=1.20 in /Users/santinihany/miniconda3/envs/ezkl/lib/python3.9/site-packages (from onnx) (1.26.4)\n",
            "Requirement already satisfied: protobuf>=3.20.2 in /Users/santinihany/miniconda3/envs/ezkl/lib/python3.9/site-packages (from onnx) (5.27.0)\n"
          ]
        }
      ],
      "source": [
        "# check if notebook is in colab\n",
        "try:\n",
        "    # install ezkl\n",
        "    import subprocess\n",
        "    import sys\n",
        "    subprocess.check_call([sys.executable, \"-m\", \"pip\", \"install\", \"ezkl\"])\n",
        "    subprocess.check_call([sys.executable, \"-m\", \"pip\", \"install\", \"onnx\"])\n",
        "\n",
        "# rely on local installation of ezkl if the notebook is not in colab\n",
        "except:\n",
        "    pass\n",
        "\n",
        "\n",
        "# here we create and (potentially train a model)\n",
        "\n",
        "# make sure you have the dependencies required here already installed\n",
        "from torch import nn\n",
        "import ezkl\n",
        "import os\n",
        "import json\n",
        "import torch\n",
        "\n",
        "\n",
        "# Defines the model\n",
        "# we got convs, we got relu, we got linear layers\n",
        "# What else could one want ????\n",
        "\n",
        "class MyModel(nn.Module):\n",
        "    def __init__(self):\n",
        "        super(MyModel, self).__init__()\n",
        "\n",
        "        self.conv1 = nn.Conv2d(in_channels=1, out_channels=2, kernel_size=5, stride=2)\n",
        "        self.conv2 = nn.Conv2d(in_channels=2, out_channels=3, kernel_size=5, stride=2)\n",
        "\n",
        "        self.relu = nn.ReLU()\n",
        "\n",
        "        self.d1 = nn.Linear(48, 48)\n",
        "        self.d2 = nn.Linear(48, 10)\n",
        "\n",
        "    def forward(self, x):\n",
        "        # 32x1x28x28 => 32x32x26x26\n",
        "        x = self.conv1(x)\n",
        "        x = self.relu(x)\n",
        "        x = self.conv2(x)\n",
        "        x = self.relu(x)\n",
        "\n",
        "        # flatten => 32 x (32*26*26)\n",
        "        x = x.flatten(start_dim = 1)\n",
        "\n",
        "        # 32 x (32*26*26) => 32x128\n",
        "        x = self.d1(x)\n",
        "        x = self.relu(x)\n",
        "\n",
        "        # logits => 32x10\n",
        "        logits = self.d2(x)\n",
        "\n",
        "        return logits\n",
        "\n",
        "\n",
        "circuit = MyModel()\n",
        "\n",
        "# Train the model as you like here (skipped for brevity)\n",
        "\n",
        "\n"
      ]
    },
    {
      "cell_type": "code",
      "execution_count": 2,
      "metadata": {
        "id": "b37637c4"
      },
      "outputs": [],
      "source": [
        "model_path = os.path.join('network.onnx')\n",
        "compiled_model_path = os.path.join('network.compiled')\n",
        "pk_path = os.path.join('test.pk')\n",
        "vk_path = os.path.join('test.vk')\n",
        "settings_path = os.path.join('settings.json')\n",
        "srs_path = os.path.join('kzg17.srs')\n",
        "\n",
        "witness_path = os.path.join('witness.json')\n",
        "data_path = os.path.join('input.json')\n",
        "\n",
        "sol_path = os.path.join(\"../src/verifierContract.sol\")\n",
        "abi_path = os.path.join(\"abi.json\")"
      ]
    },
    {
      "cell_type": "code",
      "execution_count": 3,
      "metadata": {
        "id": "82db373a"
      },
      "outputs": [],
      "source": [
        "\n",
        "shape = [1, 28, 28]\n",
        "# After training, export to onnx (network.onnx) and create a data file (input.json)\n",
        "x = 0.1*torch.rand(1,*shape, requires_grad=True)\n",
        "\n",
        "# Flips the neural net into inference mode\n",
        "circuit.eval()\n",
        "\n",
        "    # Export the model\n",
        "torch.onnx.export(circuit,               # model being run\n",
        "                      x,                   # model input (or a tuple for multiple inputs)\n",
        "                      model_path,            # where to save the model (can be a file or file-like object)\n",
        "                      export_params=True,        # store the trained parameter weights inside the model file\n",
        "                      opset_version=10,          # the ONNX version to export the model to\n",
        "                      do_constant_folding=True,  # whether to execute constant folding for optimization\n",
        "                      input_names = ['input'],   # the model's input names\n",
        "                      output_names = ['output'], # the model's output names\n",
        "                      dynamic_axes={'input' : {0 : 'batch_size'},    # variable length axes\n",
        "                                    'output' : {0 : 'batch_size'}})\n",
        "\n",
        "data_array = ((x).detach().numpy()).reshape([-1]).tolist()\n",
        "\n",
        "data = dict(input_data = [data_array])\n",
        "\n",
        "    # Serialize data into file:\n",
        "json.dump( data, open(data_path, 'w' ))\n"
      ]
    },
    {
      "cell_type": "code",
      "execution_count": 4,
      "metadata": {
        "id": "d5e374a2"
      },
      "outputs": [],
      "source": [
        "# private input, public output, public params/model\n",
        "py_run_args = ezkl.PyRunArgs()\n",
        "py_run_args.input_visibility = \"private\"\n",
        "py_run_args.output_visibility = \"public\"\n",
        "py_run_args.param_visibility = \"fixed\" # private by default\n",
        "\n",
        "res = ezkl.gen_settings(model_path, settings_path, py_run_args=py_run_args)\n",
        "\n",
        "assert res == True\n"
      ]
    },
    {
      "cell_type": "code",
      "execution_count": 5,
      "metadata": {
        "colab": {
          "base_uri": "https://localhost:8080/"
        },
        "id": "DB8pjIIRcU00",
        "outputId": "cb8b5e7a-3f86-4fd5-b54e-a2791c6b0402"
      },
      "outputs": [
        {
          "name": "stderr",
          "output_type": "stream",
          "text": [
            "calibration failed max lookup input (-1994164156, 2061405889) is too large\n",
            "calibration failed max lookup input (-4051058988789, 4293520400883) is too large\n",
            "calibration failed max lookup input (-4051058988789, 4293520400883) is too large\n",
            "calibration failed max lookup input (-9909516299, 14762838278) is too large\n",
            "calibration failed max lookup input (-32360368894145, 34370332559953) is too large\n",
            "calibration failed max lookup input (-32360368894145, 34370332559953) is too large\n",
            "calibration failed max lookup input (-79291396897, 118134584406) is too large\n",
            "calibration failed max lookup input (-259161329866067, 275009067099631) is too large\n",
            "calibration failed max lookup input (-259161329866067, 275009067099631) is too large\n",
            "calibration failed max lookup input (-15933795004, 16506680605) is too large\n",
            "calibration failed max lookup input (-64724792766791, 68746804696620) is too large\n",
            "calibration failed max lookup input (-64724792766791, 68746804696620) is too large\n",
            "Using 2 columns for non-linearity table.\n",
            "Using 2 columns for non-linearity table.\n",
            "Using 2 columns for non-linearity table.\n",
            "Using 3 columns for non-linearity table.\n",
            "Using 3 columns for non-linearity table.\n",
            "Using 3 columns for non-linearity table.\n",
            "Using 3 columns for non-linearity table.\n",
            "Using 3 columns for non-linearity table.\n",
            "Using 3 columns for non-linearity table.\n",
            "calibration failed max lookup input (-79283937162, 118132779236) is too large\n",
            "Using 2 columns for non-linearity table.\n",
            "Using 3 columns for non-linearity table.\n",
            "Using 3 columns for non-linearity table.\n",
            "calibration failed max lookup input (-518355094295682, 550067204681709) is too large\n",
            "calibration failed max lookup input (-518355094295682, 550067204681709) is too large\n",
            "Using 3 columns for non-linearity table.\n",
            "Using 3 columns for non-linearity table.\n",
            "Using 5 columns for non-linearity table.\n",
            "Using 5 columns for non-linearity table.\n",
            "Using 5 columns for non-linearity table.\n",
            "Using 5 columns for non-linearity table.\n",
            "calibration failed max lookup input (-127550445029, 132116732935) is too large\n",
            "Using 3 columns for non-linearity table.\n",
            "Using 5 columns for non-linearity table.\n",
            "Using 5 columns for non-linearity table.\n",
            "circuit creation from run args failed: SigBitTruncationError\n",
            "circuit creation from run args failed: SigBitTruncationError\n",
            "\n",
            "\n",
            " <------------- Numerical Fidelity Report (input_scale: 12, param_scale: 12, scale_input_multiplier: 1) ------------->\n",
            "\n",
            "+----------------+---------------+--------------+---------------+----------------+------------------+---------------+-------------------+--------------------+--------------------+------------------------+\n",
            "| mean_error     | median_error  | max_error    | min_error     | mean_abs_error | median_abs_error | max_abs_error | min_abs_error     | mean_squared_error | mean_percent_error | mean_abs_percent_error |\n",
            "+----------------+---------------+--------------+---------------+----------------+------------------+---------------+-------------------+--------------------+--------------------+------------------------+\n",
            "| 0.000013958355 | 0.00010859594 | 0.0002462566 | -0.0002891943 | 0.00008848152  | 0.00010859594    | 0.0002891943  | 0.000000063329935 | 0.000000011728596  | 0.0013187178       | 0.012153093            |\n",
            "+----------------+---------------+--------------+---------------+----------------+------------------+---------------+-------------------+--------------------+--------------------+------------------------+\n",
            "\n",
            "\n"
          ]
        },
        {
          "data": {
            "text/plain": [
              "True"
            ]
          },
          "execution_count": 5,
          "metadata": {},
          "output_type": "execute_result"
        }
      ],
      "source": [
        "cal_path = os.path.join(\"calibration.json\")\n",
        "\n",
        "data_array = (torch.rand(20, *shape, requires_grad=True).detach().numpy()).reshape([-1]).tolist()\n",
        "\n",
        "data = dict(input_data = [data_array])\n",
        "\n",
        "# Serialize data into file:\n",
        "json.dump(data, open(cal_path, 'w'))\n",
        "\n",
        "\n",
        "await ezkl.calibrate_settings(cal_path, model_path, settings_path, \"resources\")"
      ]
    },
    {
      "cell_type": "code",
      "execution_count": 6,
      "metadata": {
        "id": "3aa4f090"
      },
      "outputs": [],
      "source": [
        "res = ezkl.compile_circuit(model_path, compiled_model_path, settings_path)\n",
        "assert res == True"
      ]
    },
    {
      "cell_type": "code",
      "execution_count": 7,
      "metadata": {
        "id": "8b74dcee"
      },
      "outputs": [],
      "source": [
        "# srs path\n",
        "res = await ezkl.get_srs( settings_path, srs_path=srs_path)"
      ]
    },
    {
      "cell_type": "code",
      "execution_count": 8,
      "metadata": {
        "id": "b1c561a8"
      },
      "outputs": [],
      "source": [
        "\n",
        "# HERE WE SETUP THE CIRCUIT PARAMS\n",
        "# WE GOT KEYS\n",
        "# WE GOT CIRCUIT PARAMETERS\n",
        "# EVERYTHING ANYONE HAS EVER NEEDED FOR ZK\n",
        "\n",
        "\n",
        "\n",
        "res = ezkl.setup(\n",
        "        compiled_model_path,\n",
        "        vk_path,\n",
        "        pk_path,\n",
        "\n",
        "    )\n",
        "\n",
        "assert res == True\n",
        "assert os.path.isfile(vk_path)\n",
        "assert os.path.isfile(pk_path)\n",
        "assert os.path.isfile(settings_path)\n",
        "assert os.path.isfile(srs_path)"
      ]
    },
    {
      "cell_type": "code",
      "execution_count": 9,
      "metadata": {},
      "outputs": [],
      "source": [
        "# now generate the witness file\n",
        "\n",
        "res = await ezkl.gen_witness(data_path, compiled_model_path, witness_path)\n",
        "assert os.path.isfile(witness_path)"
      ]
    },
    {
      "cell_type": "code",
      "execution_count": 10,
      "metadata": {
        "colab": {
          "base_uri": "https://localhost:8080/"
        },
        "id": "c384cbc8",
        "outputId": "83daa092-015c-46dc-b40b-3044517d89fd"
      },
      "outputs": [
        {
          "name": "stdout",
          "output_type": "stream",
          "text": [
            "{'instances': [['caffffef93f5e1439170b97948e833285d588181b64550b829a031e1724e6430', 'fa00000000000000000000000000000000000000000000000000000000000000', '5800000000000000000000000000000000000000000000000000000000000000', '8b00000000000000000000000000000000000000000000000000000000000000', '4ffdffef93f5e1439170b97948e833285d588181b64550b829a031e1724e6430', 'c6fdffef93f5e1439170b97948e833285d588181b64550b829a031e1724e6430', '1000000000000000000000000000000000000000000000000000000000000000', '98fdffef93f5e1439170b97948e833285d588181b64550b829a031e1724e6430', '0700000000000000000000000000000000000000000000000000000000000000', '5a00000000000000000000000000000000000000000000000000000000000000']], 'proof': '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', 'transcript_type': 'EVM'}\n"
          ]
        }
      ],
      "source": [
        "# GENERATE A PROOF\n",
        "\n",
        "\n",
        "proof_path = os.path.join('test.pf')\n",
        "\n",
        "res = ezkl.prove(\n",
        "        witness_path,\n",
        "        compiled_model_path,\n",
        "        pk_path,\n",
        "        proof_path,\n",
        "\n",
        "        \"single\",\n",
        "    )\n",
        "\n",
        "print(res)\n",
        "json.dump( res, open(\"proof.json\", 'w' ))\n",
        "assert os.path.isfile(proof_path)"
      ]
    },
    {
      "cell_type": "code",
      "execution_count": 11,
      "metadata": {
        "colab": {
          "base_uri": "https://localhost:8080/"
        },
        "id": "76f00d41",
        "outputId": "884c9649-e16a-4180-c58b-ec9a963d045d"
      },
      "outputs": [
        {
          "name": "stdout",
          "output_type": "stream",
          "text": [
            "verified\n"
          ]
        }
      ],
      "source": [
        "# VERIFY IT\n",
        "\n",
        "res = ezkl.verify(\n",
        "        proof_path,\n",
        "        settings_path,\n",
        "        vk_path,\n",
        "        \n",
        "    )\n",
        "\n",
        "assert res == True\n",
        "print(\"verified\")"
      ]
    },
    {
      "cell_type": "code",
      "execution_count": 12,
      "metadata": {
        "id": "y3no-CSSeaqY"
      },
      "outputs": [],
      "source": [
        "# ezkl.create_evm_verifier(vk_path=Ellipsis, settings_path=Ellipsis, sol_code_path=Ellipsis, abi_path=Ellipsis, srs_path=None, render_vk_seperately=Ellipsis\n",
        "\n",
        "res = await ezkl.create_evm_verifier(vk_path, settings_path, sol_path, abi_path)\n",
        "assert res == True"
      ]
    }
  ],
  "metadata": {
    "colab": {
      "provenance": []
    },
    "kernelspec": {
      "display_name": "Python 3",
      "name": "python3"
    },
    "language_info": {
      "codemirror_mode": {
        "name": "ipython",
        "version": 3
      },
      "file_extension": ".py",
      "mimetype": "text/x-python",
      "name": "python",
      "nbconvert_exporter": "python",
      "pygments_lexer": "ipython3",
      "version": "3.9.19"
    }
  },
  "nbformat": 4,
  "nbformat_minor": 0
}
